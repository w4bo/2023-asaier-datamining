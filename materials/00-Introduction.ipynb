{
 "cells": [
  {
   "cell_type": "markdown",
   "id": "336070a1",
   "metadata": {
    "slideshow": {
     "slide_type": "slide"
    }
   },
   "source": [
    "# Data Mining"
   ]
  },
  {
   "cell_type": "markdown",
   "id": "4f52909c",
   "metadata": {
    "slideshow": {
     "slide_type": "slide"
    }
   },
   "source": [
    "Why?\n",
    "\n",
    "The amount of data stored on computer is constantly increasing\n",
    "- IoT data\n",
    "- Social data\n",
    "- Data on purchases / tax receipts\n",
    "- Banking and credit card transactions\n",
    "\n",
    "Hardware becomes more powerful and cheaper each day\n",
    "\n",
    "Competitive pressure is constantly growing\n",
    "- The information resource is a precious asset to overcoming competitors"
   ]
  },
  {
   "cell_type": "markdown",
   "id": "fca2a5df",
   "metadata": {
    "slideshow": {
     "slide_type": "slide"
    }
   },
   "source": [
    "- Most of the information on the data is not directly apparent\n",
    "- Humans can take weeks to find useful information\n",
    "- Most of the data has never been analyzed\n",
    "\n",
    "![image](https://github.com/w4bo/2023-asaier-datamining/assets/18005592/8fae400e-6c36-4f66-9b02-46f822b03626)\n"
   ]
  },
  {
   "cell_type": "markdown",
   "id": "2ba72e26",
   "metadata": {
    "slideshow": {
     "slide_type": "slide"
    }
   },
   "source": [
    "Although strongly interrelated, **machine learning** is not equal to **data mining** which indicates the computational process of pattern discovery in large datasets using machine learning methods, artificial intelligence, statistics and databases.\n",
    "\n",
    "Apart from the actual analysis phase, data mining covers aspects of:\n",
    "- Data management and pre-processing\n",
    "- Modeling\n",
    "- Identification of metrics of interest\n",
    "- Visualization\n",
    "\n",
    "![image](https://github.com/w4bo/welaser/assets/18005592/0dd9cc60-9741-414d-b856-3d2f6de83596)\n"
   ]
  },
  {
   "cell_type": "markdown",
   "id": "0e6ab2d0",
   "metadata": {
    "slideshow": {
     "slide_type": "slide"
    }
   },
   "source": [
    "A **pattern** is a synthetic representation rich in semantics of a set of data; usually expresses a recurring pattern in data, but can also express an exceptional pattern\n",
    "\n",
    "A pattern must be:\n",
    "- Valid on data with a certain degree of confidence\n",
    "- It can be understood from the syntax and semantic point of view, so that the user can interpret it\n",
    "- Previously unknown and potentially useful, so that the user can take actions accordingly"
   ]
  },
  {
   "cell_type": "markdown",
   "id": "32208081",
   "metadata": {
    "slideshow": {
     "slide_type": "slide"
    }
   },
   "source": [
    "Examples of pattern types:\n",
    "    \n",
    "- **Association rules**: Let you determine the logical implications of the dataset, and then identify the groups of affinity between objects\n",
    "- **Classifiers**: Allow you to derive a model for classifying data according to a set of a priori assigned classes\n",
    "- **Decision trees**: are special type of classifiers that allow to identify, in order of importance, the causes that lead to an event occurring\n",
    "- **Clustering**: groups elements in a set, depending on their characteristics, of apriori unknow classes\n",
    "- **Time series**: they allow the detection of recurring or atypical patterns in complex data sequences"
   ]
  }
 ],
 "metadata": {
  "celltoolbar": "Slideshow",
  "kernelspec": {
   "display_name": "Python 3 (ipykernel)",
   "language": "python",
   "name": "python3"
  },
  "language_info": {
   "codemirror_mode": {
    "name": "ipython",
    "version": 3
   },
   "file_extension": ".py",
   "mimetype": "text/x-python",
   "name": "python",
   "nbconvert_exporter": "python",
   "pygments_lexer": "ipython3",
   "version": "3.10.12"
  }
 },
 "nbformat": 4,
 "nbformat_minor": 5
}
