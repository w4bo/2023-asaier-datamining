{
 "cells": [
  {
   "cell_type": "markdown",
   "id": "ff45065e",
   "metadata": {
    "colab_type": "text",
    "id": "view-in-github",
    "slideshow": {
     "slide_type": "slide"
    }
   },
   "source": [
    "<a href=\"https://colab.research.google.com/github/w4bo/teaching-handsondatapipelines/blob/main/materials/02-MachineLearning.ipynb\" target=\"_parent\"><img src=\"https://colab.research.google.com/assets/colab-badge.svg\" alt=\"Open In Colab\"/></a>"
   ]
  },
  {
   "cell_type": "markdown",
   "id": "7c6b53f4",
   "metadata": {
    "slideshow": {
     "slide_type": "-"
    }
   },
   "source": [
    "# Machine Learning"
   ]
  },
  {
   "cell_type": "markdown",
   "id": "0a45a8f4",
   "metadata": {
    "id": "0a45a8f4",
    "slideshow": {
     "slide_type": "slide"
    }
   },
   "source": [
    "Solution of the previous `Hands on`"
   ]
  },
  {
   "cell_type": "code",
   "execution_count": null,
   "id": "3932b785",
   "metadata": {
    "execution": {
     "iopub.execute_input": "2023-07-18T08:51:55.939237Z",
     "iopub.status.busy": "2023-07-18T08:51:55.939067Z",
     "iopub.status.idle": "2023-07-18T08:51:57.793019Z",
     "shell.execute_reply": "2023-07-18T08:51:57.792267Z"
    },
    "id": "3932b785",
    "scrolled": false,
    "slideshow": {
     "slide_type": "skip"
    }
   },
   "outputs": [],
   "source": [
    "!pip install paretoset \n",
    "# !pip install auto-sklearn \n",
    "\n",
    "from paretoset import paretoset\n",
    "import numpy as np\n",
    "import pandas as pd\n",
    "import matplotlib.pyplot as plt\n",
    "from sklearn.metrics import mean_squared_error\n",
    "import seaborn as sns"
   ]
  },
  {
   "cell_type": "code",
   "execution_count": null,
   "id": "87eb7c60",
   "metadata": {
    "execution": {
     "iopub.execute_input": "2023-07-18T08:51:57.795865Z",
     "iopub.status.busy": "2023-07-18T08:51:57.795598Z",
     "iopub.status.idle": "2023-07-18T08:51:57.922490Z",
     "shell.execute_reply": "2023-07-18T08:51:57.921649Z"
    },
    "id": "87eb7c60"
   },
   "outputs": [],
   "source": [
    "def preprocess(normalize=True):\n",
    "    df = pd.read_csv(\"https://raw.githubusercontent.com/w4bo/handsOnDataPipelines/main/materials/datasets/housing.csv\", delimiter=\",\")\n",
    "\n",
    "    num_df = df.drop(columns=[\"ocean_proximity\", \"median_house_value\"])\n",
    "\n",
    "    # Filling in (i.e., impute) missing values with the median value\n",
    "    num_df[\"total_bedrooms\"] = num_df[\"total_bedrooms\"].fillna(num_df[\"total_bedrooms\"].median())\n",
    "\n",
    "    # Add a new column: population_per_household = population / households\n",
    "    num_df[\"population_per_household\"] = num_df[\"population\"] / num_df[\"households\"]\n",
    "\n",
    "    # Add a new column: rooms_per_household = total_rooms / households\n",
    "    num_df[\"rooms_per_household\"] = num_df[\"total_rooms\"] / num_df[\"households\"]\n",
    "\n",
    "    # Add a new column: bedrooms_per_room = total_bedrooms / total_rooms\n",
    "    num_df[\"bedrooms_per_room\"] = num_df[\"total_bedrooms\"] / num_df[\"total_rooms\"]\n",
    "\n",
    "    if normalize:\n",
    "        # Apply standardization to all the numeric columns\n",
    "        num_df = (num_df - num_df.mean()) / num_df.std()\n",
    "\n",
    "    # One hot encode `ocean_proximity` since it is a categorical attribute\n",
    "    cat_df = pd.get_dummies(df[\"ocean_proximity\"], prefix='ocean_proximity')\n",
    "\n",
    "    # Join all the dataframes\n",
    "    # do not change this line\n",
    "    return pd.concat([num_df, cat_df, df[[\"median_house_value\"]]], axis=1)\n",
    "\n",
    "\n",
    "df = preprocess()"
   ]
  },
  {
   "cell_type": "code",
   "execution_count": null,
   "id": "6UU4itaaW-pF",
   "metadata": {
    "execution": {
     "iopub.execute_input": "2023-07-18T08:51:57.925779Z",
     "iopub.status.busy": "2023-07-18T08:51:57.924909Z",
     "iopub.status.idle": "2023-07-18T08:52:00.301608Z",
     "shell.execute_reply": "2023-07-18T08:52:00.300688Z"
    },
    "id": "6UU4itaaW-pF",
    "slideshow": {
     "slide_type": "slide"
    }
   },
   "outputs": [],
   "source": [
    "tmp = df[[\"population_per_household\", \"rooms_per_household\", \"bedrooms_per_room\", \"median_house_value\"]]\n",
    "sns.pairplot(tmp.sample(n=1000, random_state=42), markers='+')\n",
    "plt.show()"
   ]
  },
  {
   "cell_type": "markdown",
   "id": "_dZqb4sIW_6E",
   "metadata": {
    "id": "_dZqb4sIW_6E",
    "slideshow": {
     "slide_type": "slide"
    }
   },
   "source": [
    "Before delving into machine learning, which are the houses the represent a good tradeof between cost and number of rooms?"
   ]
  },
  {
   "cell_type": "code",
   "execution_count": null,
   "id": "I1Mo6X-FYR2s",
   "metadata": {
    "execution": {
     "iopub.execute_input": "2023-07-18T08:52:00.304099Z",
     "iopub.status.busy": "2023-07-18T08:52:00.303713Z",
     "iopub.status.idle": "2023-07-18T08:52:00.481566Z",
     "shell.execute_reply": "2023-07-18T08:52:00.480514Z"
    },
    "id": "I1Mo6X-FYR2s"
   },
   "outputs": [],
   "source": [
    "fig, ax = plt.subplots(nrows=1, ncols=1)\n",
    "df.plot.scatter(x='median_house_value', y='total_bedrooms', ax=ax)"
   ]
  },
  {
   "cell_type": "code",
   "execution_count": null,
   "id": "tHqzkvKhXIJE",
   "metadata": {
    "execution": {
     "iopub.execute_input": "2023-07-18T08:52:00.484022Z",
     "iopub.status.busy": "2023-07-18T08:52:00.483800Z",
     "iopub.status.idle": "2023-07-18T08:52:00.606689Z",
     "shell.execute_reply": "2023-07-18T08:52:00.605874Z"
    },
    "id": "tHqzkvKhXIJE",
    "slideshow": {
     "slide_type": "slide"
    }
   },
   "outputs": [],
   "source": [
    "mask = paretoset(df[[\"median_house_value\", \"total_bedrooms\"]], sense=[\"min\", \"max\"])\n",
    "df[mask].plot.scatter(x='median_house_value', y='total_bedrooms', ax=ax, c='red')\n",
    "fig"
   ]
  },
  {
   "cell_type": "code",
   "execution_count": null,
   "id": "LaLRVDVWXKQe",
   "metadata": {
    "execution": {
     "iopub.execute_input": "2023-07-18T08:52:00.608913Z",
     "iopub.status.busy": "2023-07-18T08:52:00.608711Z",
     "iopub.status.idle": "2023-07-18T08:52:01.221616Z",
     "shell.execute_reply": "2023-07-18T08:52:01.220840Z"
    },
    "id": "LaLRVDVWXKQe",
    "slideshow": {
     "slide_type": "skip"
    }
   },
   "outputs": [],
   "source": [
    "fig, ax = plt.subplots(nrows=1, ncols=1)\n",
    "df.plot.scatter(x=\"housing_median_age\", y=\"total_bedrooms\", c=\"median_house_value\", ax=ax)"
   ]
  },
  {
   "cell_type": "code",
   "execution_count": null,
   "id": "6QeVrBioXMOk",
   "metadata": {
    "execution": {
     "iopub.execute_input": "2023-07-18T08:52:01.225198Z",
     "iopub.status.busy": "2023-07-18T08:52:01.224329Z",
     "iopub.status.idle": "2023-07-18T08:52:01.606967Z",
     "shell.execute_reply": "2023-07-18T08:52:01.606163Z"
    },
    "id": "6QeVrBioXMOk",
    "slideshow": {
     "slide_type": "skip"
    }
   },
   "outputs": [],
   "source": [
    "mask = paretoset(df[[\"housing_median_age\", \"total_bedrooms\", \"median_house_value\"]], sense=[\"min\", \"max\", \"min\"])\n",
    "df[mask].plot.scatter(x=\"housing_median_age\", y=\"total_bedrooms\", ax=ax, c='red')\n",
    "fig"
   ]
  },
  {
   "cell_type": "markdown",
   "id": "9a621068",
   "metadata": {
    "slideshow": {
     "slide_type": "slide"
    }
   },
   "source": [
    "Machine Learning is the science (and art) of programming computers so they can learn from data\n",
    "\n",
    "> Machine Learning is the field of study that gives computers the ability to learn without being explicitly programmed (Arthur Samuel, 1959)\n",
    "\n",
    "> A computer program is said to learn from experience E with respect to some task T and some performance measure P, if its performance on T, as measured by P, improves with experience E (Tom Mitchell, 1997)\n"
   ]
  },
  {
   "cell_type": "markdown",
   "id": "66748e0c",
   "metadata": {
    "slideshow": {
     "slide_type": "slide"
    }
   },
   "source": [
    "There are many types of Machine Learning algorithms\n",
    "\n",
    "Classify them in broad categories, based on the following criteria:\n",
    "\n",
    "- Whether they are trained with human supervision\n",
    "    - Supervised, unsupervised, semi-supervised, and reinforcement learning\n",
    "- Whether they can learn incrementally\n",
    "    - Online, batch learning\n",
    "- Whether they compare new to known data points, or detect patterns/models in the training\n",
    "    - Instance-based, model-based learning\n"
   ]
  },
  {
   "cell_type": "markdown",
   "id": "4ae284be",
   "metadata": {
    "id": "4ae284be",
    "slideshow": {
     "slide_type": "slide"
    }
   },
   "source": [
    "**Sklearn**: Machine Learning in Python\n",
    "- This library is built upon NumPy, SciPy and Matplotlib\n",
    "    - Open source and commercially usable\n",
    "- Covers many algorithms\n",
    "    - Supervised Learning algorithms: Linear Regression, Support Vector Machine, etc.\n",
    "    - Unsupervised Learning algorithms: clustering, factor analysis, PCA, neural networks, etc.\n",
    "    - Cross Validation: check the accuracy of supervised models on unseen data\n",
    "    - Feature extraction: extract the features from data to define the attributes in image and text data\n",
    "\n",
    "\n",
    "Check also: \n",
    "- https://scikit-learn.org/stable/index.html\n",
    "- https://scikit-learn.org/stable/modules/tree.html"
   ]
  },
  {
   "cell_type": "code",
   "execution_count": null,
   "id": "80e1c257",
   "metadata": {
    "execution": {
     "iopub.execute_input": "2023-07-18T08:52:01.609675Z",
     "iopub.status.busy": "2023-07-18T08:52:01.609457Z",
     "iopub.status.idle": "2023-07-18T08:52:01.613507Z",
     "shell.execute_reply": "2023-07-18T08:52:01.612792Z"
    }
   },
   "outputs": [],
   "source": [
    "import sklearn as sk\n",
    "np.random.seed(42)  # why are we fixing the seed?\n",
    "print(sk.__version__)"
   ]
  },
  {
   "cell_type": "markdown",
   "id": "d28525fa",
   "metadata": {
    "slideshow": {
     "slide_type": "slide"
    }
   },
   "source": [
    "We focus on supervised learning tasks\n",
    "- The training set you feed to the algorithm includes the desired solutions\n",
    "- Classification\n",
    "    - Approximating a mapping function (`f`) from input variables (`X`) to discrete output variables (`y`)\n",
    "    - The output variables are called labels or categories\n",
    "    - The mapping function predicts the class or category for a given observation\n",
    "    - E.g., a spam filter is trained with many example emails along with their class (`spam` or `ham`)\n",
    "- Regression\n",
    "    - Approximating a mapping function (`f`) from input variables (`X`) to a continuous output variable (`y`)\n",
    "    - A continuous output variable is a real-value, such as an integer or floating-point value\n",
    "    - E.g., predict the price of a car given a set of features (`mileage`, `age`, `brand`, etc.) called predictors\n"
   ]
  },
  {
   "cell_type": "markdown",
   "id": "ca8311dd",
   "metadata": {
    "slideshow": {
     "slide_type": "slide"
    }
   },
   "source": [
    "For a supervised learning problem we need:\n",
    "- Input data along with labels\n",
    "- Split data between test and training set. How?\n",
    "\n",
    "Scikit-learn uses data in the form of N-dimensional matrix\n",
    "\n",
    "- Data as a feature matrix `X` (e.g., a Pandas DataFrame)\n",
    "    - The samples represent the individual objects described by the dataset (e.g., a `person`)\n",
    "    - The features describe each sample in a quantitative manner (e.g., `age` and `height`)\n",
    "- Data as target array `y` (e.g., a Pandas Series)\n",
    "    - Along with features matrix, we also have the target array (label)\n",
    "\n",
    "\n",
    "How do we\n",
    "- distinguish target and feature columns?\n",
    "- build test and training sets?\n"
   ]
  },
  {
   "cell_type": "code",
   "execution_count": null,
   "id": "21a9526a",
   "metadata": {
    "execution": {
     "iopub.execute_input": "2023-07-18T08:52:01.616423Z",
     "iopub.status.busy": "2023-07-18T08:52:01.616219Z",
     "iopub.status.idle": "2023-07-18T08:52:01.625873Z",
     "shell.execute_reply": "2023-07-18T08:52:01.624992Z"
    },
    "id": "21a9526a",
    "slideshow": {
     "slide_type": "slide"
    }
   },
   "outputs": [],
   "source": [
    "# For illustration only. Sklearn has train_test_split()\n",
    "def split_train_test(data, test_ratio):\n",
    "    # get a list of random numbers\n",
    "    shuffled_indices = np.random.permutation(len(data))\n",
    "    # define the size of test dataset\n",
    "    test_set_size = int(len(data) * test_ratio)\n",
    "    # the test dataset includes some indexes\n",
    "    test_indices = shuffled_indices[:test_set_size]\n",
    "    # the train dataset includes the others (no overlapping)\n",
    "    train_indices = shuffled_indices[test_set_size:]\n",
    "    # return the two dataframes\n",
    "    return data.iloc[train_indices], data.iloc[test_indices]\n",
    "\n",
    "\n",
    "# get the train and test dataframes\n",
    "df_train, df_test = split_train_test(df, 0.2)\n",
    "\n",
    "# get the train feature matrix\n",
    "X_train = df_train.drop(columns=[\"median_house_value\"]).to_numpy()\n",
    "# get the test feature matrix\n",
    "X_test = df_test.drop(columns=[\"median_house_value\"]).to_numpy()\n",
    "# get the train label array\n",
    "y_train = df_train[\"median_house_value\"].to_numpy()\n",
    "y_test = df_test[\"median_house_value\"].to_numpy()  # get the test label array"
   ]
  },
  {
   "cell_type": "code",
   "execution_count": null,
   "id": "09fe3dce",
   "metadata": {
    "execution": {
     "iopub.execute_input": "2023-07-18T08:52:01.628510Z",
     "iopub.status.busy": "2023-07-18T08:52:01.628219Z",
     "iopub.status.idle": "2023-07-18T08:52:01.640501Z",
     "shell.execute_reply": "2023-07-18T08:52:01.639646Z"
    },
    "id": "09fe3dce",
    "slideshow": {
     "slide_type": "slide"
    }
   },
   "outputs": [],
   "source": [
    "from sklearn.model_selection import train_test_split\n",
    "y = df[\"median_house_value\"]  # labels\n",
    "X = df.drop(columns=[\"median_house_value\"])  # input data\n",
    "X_train, X_test, y_train, y_test = train_test_split(X, y, test_size=0.33, random_state=42)"
   ]
  },
  {
   "cell_type": "code",
   "execution_count": null,
   "id": "613643ea",
   "metadata": {
    "execution": {
     "iopub.execute_input": "2023-07-18T08:52:01.643661Z",
     "iopub.status.busy": "2023-07-18T08:52:01.643296Z",
     "iopub.status.idle": "2023-07-18T08:52:01.657668Z",
     "shell.execute_reply": "2023-07-18T08:52:01.656984Z"
    },
    "id": "613643ea",
    "slideshow": {
     "slide_type": "slide"
    }
   },
   "outputs": [],
   "source": [
    "X_train"
   ]
  },
  {
   "cell_type": "code",
   "execution_count": null,
   "id": "456e291b",
   "metadata": {
    "execution": {
     "iopub.execute_input": "2023-07-18T08:52:01.660213Z",
     "iopub.status.busy": "2023-07-18T08:52:01.659998Z",
     "iopub.status.idle": "2023-07-18T08:52:01.665585Z",
     "shell.execute_reply": "2023-07-18T08:52:01.665017Z"
    },
    "id": "456e291b",
    "slideshow": {
     "slide_type": "slide"
    }
   },
   "outputs": [],
   "source": [
    "y_train"
   ]
  },
  {
   "cell_type": "markdown",
   "id": "3885356d",
   "metadata": {
    "slideshow": {
     "slide_type": "slide"
    }
   },
   "source": [
    "Estimator\n",
    "\n",
    "- A consistent interface for a wide range of ML applications\n",
    "- The algorithm that learns from the data (fitting the data) is an estimator\n",
    "- It can be used with any of the algorithms like classification, regression, and clustering\n",
    "\n",
    "All the parameters can be set when creating the estimator\n",
    "\n",
    "    estimator = Estimator(param1=1, param2=2)\n",
    "    estimator.param1\n",
    "All estimator objects expose a fit method that takes a dataset\n",
    "\n",
    "    estimator.fit(X)\n",
    "Once data is fitted with an estimator, all the estimated parameters will be the attributes of the estimator object ending by an underscore\n",
    "\n",
    "    estimator.estimated_param_"
   ]
  },
  {
   "cell_type": "markdown",
   "id": "8ec30efe",
   "metadata": {
    "slideshow": {
     "slide_type": "slide"
    }
   },
   "source": [
    "Sklearn in action\n",
    "\n",
    "1. Choose a class of model\n",
    "    - Import the appropriate Estimator class from Scikit-learn (e.g., a decision tree)\n",
    "1. Choose model hyperparameters\n",
    "1. Model Fitting\n",
    "    - Fit the model by calling `fit()` method of the model instance\n",
    "1. Applying the model to new data\n",
    "    - For supervised learning, use `predict()` method to predict the labels for unknown data. \n",
    "    - For unsupervised learning, use `predict()` or `transform()` to infer properties of the data.\n"
   ]
  },
  {
   "cell_type": "markdown",
   "id": "ad89fa77",
   "metadata": {
    "slideshow": {
     "slide_type": "slide"
    }
   },
   "source": [
    "## Regression"
   ]
  },
  {
   "cell_type": "code",
   "execution_count": null,
   "id": "805e7157",
   "metadata": {
    "execution": {
     "iopub.execute_input": "2023-07-18T08:52:01.667965Z",
     "iopub.status.busy": "2023-07-18T08:52:01.667487Z",
     "iopub.status.idle": "2023-07-18T08:52:01.696525Z",
     "shell.execute_reply": "2023-07-18T08:52:01.695827Z"
    },
    "id": "805e7157"
   },
   "outputs": [],
   "source": [
    "# Choose a class of model, Apply linear regression\n",
    "# (https://scikit-learn.org/stable/modules/generated/sklearn.linear_model.LinearRegression.html)\n",
    "from sklearn.linear_model import LinearRegression  # import the model\n",
    "# Choose model hyperparameters and initialize the model (i.e., the estimator)\n",
    "lin_reg = LinearRegression(fit_intercept=True)\n",
    "# Model fitting\n",
    "lin_reg.fit(X_train, y_train)  # train it\n",
    "# \"LinearRegression fits a linear model with coefficients w = (w1, ..., wp) to minimize the residual\n",
    "# sum of squares between the observed targets in the dataset, and the targets predicted by the linear approximation.\"\n",
    "lin_reg.coef_"
   ]
  },
  {
   "cell_type": "markdown",
   "id": "206cffd5",
   "metadata": {
    "slideshow": {
     "slide_type": "slide"
    }
   },
   "source": [
    "![image](https://user-images.githubusercontent.com/18005592/232785531-1258fd6b-78a8-4f0a-9bde-bcc7f416f14f.png)"
   ]
  },
  {
   "cell_type": "code",
   "execution_count": null,
   "id": "deb75fc9",
   "metadata": {
    "execution": {
     "iopub.execute_input": "2023-07-18T08:52:01.698841Z",
     "iopub.status.busy": "2023-07-18T08:52:01.698653Z",
     "iopub.status.idle": "2023-07-18T08:52:01.716973Z",
     "shell.execute_reply": "2023-07-18T08:52:01.716236Z"
    }
   },
   "outputs": [],
   "source": [
    "# predict the cost of houses in the test set\n",
    "housing_predictions = lin_reg.predict(X_test)\n",
    "housing_predictions"
   ]
  },
  {
   "cell_type": "markdown",
   "id": "90cee0d5",
   "metadata": {
    "slideshow": {
     "slide_type": "slide"
    }
   },
   "source": [
    "This checklist can help you while building your projects\n",
    "\n",
    "Frame the problem and look at the big picture\n",
    "\n",
    "- ✔ Define the objective in business terms\n",
    "- ✖ How should performance be measured? (let's do this!)\n"
   ]
  },
  {
   "cell_type": "markdown",
   "id": "61e87f66",
   "metadata": {
    "slideshow": {
     "slide_type": "slide"
    }
   },
   "source": [
    "We are facing a regression problem\n",
    "\n",
    "- A typical performance measure for regression problems is the Root Mean Square Error (RMSE)\n",
    "- RMSE is the standard deviation of the residuals (prediction errors)\n",
    "- Residuals are a measure of how far from the regression line data points are; RMSE is a measure of how spread out these residuals are\n"
   ]
  },
  {
   "cell_type": "markdown",
   "id": "7f0a4362",
   "metadata": {
    "slideshow": {
     "slide_type": "slide"
    }
   },
   "source": [
    "![image](https://user-images.githubusercontent.com/18005592/232786035-abaca941-12c5-44b0-9085-e9908512803d.png)"
   ]
  },
  {
   "cell_type": "code",
   "execution_count": null,
   "id": "a764f2b9",
   "metadata": {
    "execution": {
     "iopub.execute_input": "2023-07-18T08:52:01.719659Z",
     "iopub.status.busy": "2023-07-18T08:52:01.719414Z",
     "iopub.status.idle": "2023-07-18T08:52:01.900464Z",
     "shell.execute_reply": "2023-07-18T08:52:01.899807Z"
    },
    "slideshow": {
     "slide_type": "slide"
    }
   },
   "outputs": [],
   "source": [
    "lin_mse = mean_squared_error(y_test, housing_predictions)  # check the error\n",
    "lin_rmse = np.sqrt(lin_mse)  # apply the squared root of the error\n",
    "print(lin_rmse)  # print it\n",
    "\n",
    "# visualize some predictions\n",
    "df = pd.DataFrame({'y_test': y_test[:10].to_numpy(), 'y_pred': housing_predictions[:10]}, index=[x for x in range(10)])\n",
    "df.plot.bar(rot=0)\n"
   ]
  },
  {
   "cell_type": "markdown",
   "id": "428764a9",
   "metadata": {
    "id": "428764a9",
    "slideshow": {
     "slide_type": "slide"
    }
   },
   "source": [
    "This is better than nothing, but clearly not a great score: most districts’ `median_housing_values` range between 120K USD and  265K USD, so a typical prediction error of ~70K USD is not very satisfying. This is an example of a model underfitting the training\n",
    "data.\n",
    "\n",
    "https://scikit-learn.org/stable/modules/generated/sklearn.ensemble.RandomForestRegressor.html\n",
    "\n",
    "\"A random forest is a meta estimator that fits a number of classifying decision trees on various sub-samples of the dataset and uses averaging to improve the predictive accuracy and control over-fitting. The sub-sample size is controlled with the max_samples parameter if bootstrap=True (default), otherwise the whole dataset is used to build each tree.\""
   ]
  },
  {
   "cell_type": "code",
   "execution_count": null,
   "id": "109abc76",
   "metadata": {
    "execution": {
     "iopub.execute_input": "2023-07-18T08:52:01.902871Z",
     "iopub.status.busy": "2023-07-18T08:52:01.902596Z",
     "iopub.status.idle": "2023-07-18T08:52:01.934265Z",
     "shell.execute_reply": "2023-07-18T08:52:01.933464Z"
    },
    "id": "109abc76",
    "slideshow": {
     "slide_type": "skip"
    }
   },
   "outputs": [],
   "source": [
    "from sklearn.ensemble import RandomForestRegressor  # import the model\n",
    "\n",
    "\n",
    "def run_forest(n_estimators, max_features, min_samples_split=5):\n",
    "    # initialize the model (i.e., the estimator)\n",
    "    forest_reg = RandomForestRegressor(n_estimators=n_estimators, max_features=max_features, random_state=42)\n",
    "    forest_reg.fit(X_train, y_train)  # train it\n",
    "    # predict the cost of houses in the test set\n",
    "    housing_predictions = forest_reg.predict(X_test)\n",
    "\n",
    "    forest_rmse = mean_squared_error(y_test, housing_predictions, squared=True)  # check the error\n",
    "    forest_rmse = np.sqrt(forest_rmse)  # apply the squared root of the error\n",
    "    print(forest_rmse)\n",
    "\n",
    "    df = pd.DataFrame({'y_test': y_test[:10].to_numpy(\n",
    "    ), 'y_pred': housing_predictions[:10]}, index=[x for x in range(10)])\n",
    "    df.plot.bar(rot=0)\n",
    "    return forest_reg"
   ]
  },
  {
   "cell_type": "code",
   "execution_count": null,
   "id": "9c488742",
   "metadata": {
    "execution": {
     "iopub.execute_input": "2023-07-18T08:52:01.936854Z",
     "iopub.status.busy": "2023-07-18T08:52:01.936628Z",
     "iopub.status.idle": "2023-07-18T08:52:12.705307Z",
     "shell.execute_reply": "2023-07-18T08:52:12.704296Z"
    },
    "slideshow": {
     "slide_type": "slide"
    }
   },
   "outputs": [],
   "source": [
    "forest_reg = run_forest(100, 1.0)"
   ]
  },
  {
   "cell_type": "markdown",
   "id": "847f5256",
   "metadata": {
    "id": "847f5256",
    "slideshow": {
     "slide_type": "slide"
    }
   },
   "source": [
    "Look at parameters used by our current forest"
   ]
  },
  {
   "cell_type": "code",
   "execution_count": null,
   "id": "f0235826",
   "metadata": {
    "execution": {
     "iopub.execute_input": "2023-07-18T08:52:12.707783Z",
     "iopub.status.busy": "2023-07-18T08:52:12.707595Z",
     "iopub.status.idle": "2023-07-18T08:52:12.712302Z",
     "shell.execute_reply": "2023-07-18T08:52:12.711638Z"
    },
    "id": "f0235826"
   },
   "outputs": [],
   "source": [
    "forest_reg.get_params()"
   ]
  },
  {
   "cell_type": "markdown",
   "id": "d15078b5",
   "metadata": {
    "slideshow": {
     "slide_type": "slide"
    }
   },
   "source": [
    "## Hyperparameter tuning\n",
    "\n",
    "Hyper-parameters: parameters that are not directly learnt within estimators\n",
    "- In scikit-learn they are passed as arguments to the constructor of the estimator classes\n",
    "- Any parameter provided when constructing an estimator may be optimized\n",
    "\n",
    "        estimator.get_params()\n",
    "A search consists of:\n",
    "- an estimator\n",
    "- a parameter space\n",
    "- a method for searching or sampling candidates\n",
    "- a cross-validation scheme\n",
    "- a score function"
   ]
  },
  {
   "cell_type": "markdown",
   "id": "f5023cd4",
   "metadata": {
    "slideshow": {
     "slide_type": "slide"
    }
   },
   "source": [
    "### Cross validation\n",
    "\n",
    "![image](https://user-images.githubusercontent.com/18005592/232793622-e98002b4-d58b-465b-8a3d-e7b3d0dafe6f.png)"
   ]
  },
  {
   "cell_type": "markdown",
   "id": "bfb08bbb",
   "metadata": {
    "slideshow": {
     "slide_type": "slide"
    }
   },
   "source": [
    "![Picture1](https://user-images.githubusercontent.com/18005592/232802005-d3a1aff6-23d8-4704-8a3f-a219d2155d30.png)"
   ]
  },
  {
   "cell_type": "markdown",
   "id": "NjKGX2f5XeXe",
   "metadata": {
    "id": "NjKGX2f5XeXe",
    "slideshow": {
     "slide_type": "slide"
    }
   },
   "source": [
    "There are many search algorithms:\n",
    "\n",
    "- *Random*\n",
    "    - \"The parameters of the estimator used to apply these methods are optimized by cross-validated search over parameter settings. In contrast to GridSearchCV, not all parameter values are tried out, but rather a fixed number of parameter settings is sampled from the specified distributions. The number of parameter settings that are tried is given by n_iter.\"\n",
    "    - https://scikit-learn.org/stable/modules/generated/sklearn.model_selection.RandomizedSearchCV.html\n",
    "- Grid\n",
    "- AutoML\n",
    "\n"
   ]
  },
  {
   "cell_type": "code",
   "execution_count": null,
   "id": "8d94f505",
   "metadata": {
    "execution": {
     "iopub.execute_input": "2023-07-18T08:52:12.714864Z",
     "iopub.status.busy": "2023-07-18T08:52:12.714641Z",
     "iopub.status.idle": "2023-07-18T08:53:14.227677Z",
     "shell.execute_reply": "2023-07-18T08:53:14.227006Z"
    },
    "id": "8d94f505",
    "scrolled": true,
    "slideshow": {
     "slide_type": "slide"
    }
   },
   "outputs": [],
   "source": [
    "from sklearn.model_selection import RandomizedSearchCV\n",
    "\n",
    "random_grid = {\n",
    "    # Number of trees in random forest\n",
    "    'n_estimators': [10, 25, 50, 100, 150],\n",
    "    # Number of features to consider at every split\n",
    "    'max_features': [1.0, 'sqrt'],\n",
    "    'min_samples_split': [2, 5]\n",
    "}\n",
    "\n",
    "# Fit the random search model\n",
    "rf_random = RandomizedSearchCV(estimator=forest_reg, param_distributions=random_grid, cv=3, verbose=2, random_state=42)\n",
    "rf_random.fit(X_train, y_train)\n",
    "rf_random.best_params_\n"
   ]
  },
  {
   "cell_type": "code",
   "execution_count": null,
   "id": "f40f18a9",
   "metadata": {
    "execution": {
     "iopub.execute_input": "2023-07-18T08:53:14.230049Z",
     "iopub.status.busy": "2023-07-18T08:53:14.229836Z",
     "iopub.status.idle": "2023-07-18T08:53:17.413283Z",
     "shell.execute_reply": "2023-07-18T08:53:17.412515Z"
    },
    "id": "f40f18a9",
    "slideshow": {
     "slide_type": "slide"
    }
   },
   "outputs": [],
   "source": [
    "run_forest(n_estimators=100, min_samples_split=5, max_features='sqrt')"
   ]
  },
  {
   "cell_type": "markdown",
   "id": "47f03591",
   "metadata": {
    "id": "47f03591",
    "slideshow": {
     "slide_type": "slide"
    }
   },
   "source": [
    "#### Dimensionality reduction"
   ]
  },
  {
   "cell_type": "code",
   "execution_count": null,
   "id": "41167ddd",
   "metadata": {
    "execution": {
     "iopub.execute_input": "2023-07-18T08:53:17.415752Z",
     "iopub.status.busy": "2023-07-18T08:53:17.415552Z",
     "iopub.status.idle": "2023-07-18T08:53:18.033827Z",
     "shell.execute_reply": "2023-07-18T08:53:18.033133Z"
    },
    "id": "41167ddd",
    "scrolled": true
   },
   "outputs": [],
   "source": [
    "from sklearn.decomposition import PCA\n",
    "\n",
    "pca = PCA(n_components=2)\n",
    "result = pca.fit_transform(X_train.values)\n",
    "\n",
    "plt.scatter(\n",
    "    x=result[:, 0],\n",
    "    y=result[:, 1],\n",
    "    c=y_train,\n",
    "    cmap='viridis'\n",
    ")"
   ]
  },
  {
   "cell_type": "code",
   "execution_count": null,
   "id": "3b18f9db",
   "metadata": {
    "execution": {
     "iopub.execute_input": "2023-07-18T08:53:18.036294Z",
     "iopub.status.busy": "2023-07-18T08:53:18.036095Z",
     "iopub.status.idle": "2023-07-18T08:53:18.048522Z",
     "shell.execute_reply": "2023-07-18T08:53:18.047785Z"
    },
    "id": "3b18f9db",
    "scrolled": true,
    "slideshow": {
     "slide_type": "slide"
    }
   },
   "outputs": [],
   "source": [
    "# Dump components relations with features\n",
    "pd.DataFrame(pca.components_, columns=X_train.columns, index=['PC1', 'PC2'])"
   ]
  },
  {
   "cell_type": "code",
   "execution_count": null,
   "id": "HYDBmdVCXjFV",
   "metadata": {
    "execution": {
     "iopub.execute_input": "2023-07-18T08:53:18.050852Z",
     "iopub.status.busy": "2023-07-18T08:53:18.050637Z",
     "iopub.status.idle": "2023-07-18T08:53:21.104359Z",
     "shell.execute_reply": "2023-07-18T08:53:21.103537Z"
    },
    "id": "HYDBmdVCXjFV",
    "slideshow": {
     "slide_type": "skip"
    }
   },
   "outputs": [],
   "source": [
    "from sklearn.manifold import TSNE\n",
    "\n",
    "tsne = TSNE(n_components=2)\n",
    "result = tsne.fit_transform(X_train.head(2000))\n",
    "\n",
    "plt.scatter(\n",
    "    x=result[:, 0],\n",
    "    y=result[:, 1],\n",
    "    c=y_train.head(2000).apply(lambda x: 0 if x == 'low' else (1 if x == 'medium' else 2)),\n",
    "    cmap='viridis'\n",
    ")"
   ]
  },
  {
   "cell_type": "markdown",
   "id": "7d65e48c",
   "metadata": {
    "id": "7d65e48c",
    "slideshow": {
     "slide_type": "slide"
    }
   },
   "source": [
    "## Classification\n",
    "\n",
    "Can we turn this into a classification problem?"
   ]
  },
  {
   "cell_type": "code",
   "execution_count": null,
   "id": "f16c0883",
   "metadata": {
    "execution": {
     "iopub.execute_input": "2023-07-18T08:53:21.106844Z",
     "iopub.status.busy": "2023-07-18T08:53:21.106574Z",
     "iopub.status.idle": "2023-07-18T08:53:21.381197Z",
     "shell.execute_reply": "2023-07-18T08:53:21.380537Z"
    },
    "id": "f16c0883",
    "scrolled": false,
    "slideshow": {
     "slide_type": "slide"
    }
   },
   "outputs": [],
   "source": [
    "df = preprocess(False)  # clean the dataset withtout standardization\n",
    "bins = [\"low\", \"medium\", \"high\"]  # the labels we are gonna use\n",
    "# map bins of values into labels\n",
    "df[\"median_house_value\"] = pd.cut(df[\"median_house_value\"], 3, labels=bins)\n",
    "df[\"median_house_value\"].hist()  # plot them\n"
   ]
  },
  {
   "cell_type": "markdown",
   "id": "0a864ea4",
   "metadata": {
    "id": "0a864ea4",
    "slideshow": {
     "slide_type": "slide"
    }
   },
   "source": [
    "For the sake of performance, we are going to use a manually defined set of features"
   ]
  },
  {
   "cell_type": "code",
   "execution_count": null,
   "id": "eafc83b9",
   "metadata": {
    "execution": {
     "iopub.execute_input": "2023-07-18T08:53:21.383340Z",
     "iopub.status.busy": "2023-07-18T08:53:21.383150Z",
     "iopub.status.idle": "2023-07-18T08:53:21.390175Z",
     "shell.execute_reply": "2023-07-18T08:53:21.389423Z"
    },
    "id": "eafc83b9"
   },
   "outputs": [],
   "source": [
    "y = df[\"median_house_value\"]  # labels\n",
    "# consider only some features from the train dataset\n",
    "X = df[[\"latitude\", \"longitude\", \"median_income\", \"population\", \"households\", \"total_bedrooms\"]]\n",
    "# split the dataset\n",
    "X_train, X_test, y_train, y_test = train_test_split(X, y, test_size=0.33, random_state=42)"
   ]
  },
  {
   "cell_type": "markdown",
   "id": "90d6b350",
   "metadata": {
    "slideshow": {
     "slide_type": "slide"
    }
   },
   "source": [
    "Computing performance"
   ]
  },
  {
   "cell_type": "markdown",
   "id": "b9a18a02",
   "metadata": {
    "slideshow": {
     "slide_type": "-"
    }
   },
   "source": [
    "\n",
    "![Picture2](https://user-images.githubusercontent.com/18005592/232803278-7a0e5182-4267-410a-a809-7edc54a47980.png)"
   ]
  },
  {
   "cell_type": "markdown",
   "id": "f323c132",
   "metadata": {
    "slideshow": {
     "slide_type": "slide"
    }
   },
   "source": [
    "![Picture3](https://user-images.githubusercontent.com/18005592/232803261-1cae7aac-e3fc-4467-bb45-65455d7a34a7.png)"
   ]
  },
  {
   "cell_type": "markdown",
   "id": "079e663e",
   "metadata": {
    "slideshow": {
     "slide_type": "slide"
    }
   },
   "source": [
    "- Precision: $\\frac{tp}{tp + fp}$\n",
    "- Recall: $\\frac{tp}{tp + fn}$\n",
    "- Accuracy: $\\frac{tp + tn}{tp + tn + fp + fpn}$\n",
    "- F1-score: $2 \\cdot \\frac{precision \\cdot recall}{precision + recall}$\n",
    "\n",
    "Summing up \n",
    "- Accuracy is used when TP and TN are more important while F1-score is used when FN and FP are\n",
    "- Accuracy can be used when the class distribution is similar, while F1-score is a better when there are imbalanced classes\n"
   ]
  },
  {
   "cell_type": "code",
   "execution_count": null,
   "id": "f6a910d0",
   "metadata": {
    "execution": {
     "iopub.execute_input": "2023-07-18T08:53:21.392490Z",
     "iopub.status.busy": "2023-07-18T08:53:21.392238Z",
     "iopub.status.idle": "2023-07-18T08:53:21.492083Z",
     "shell.execute_reply": "2023-07-18T08:53:21.491326Z"
    },
    "id": "f6a910d0",
    "slideshow": {
     "slide_type": "slide"
    }
   },
   "outputs": [],
   "source": [
    "from sklearn.metrics import accuracy_score\n",
    "from sklearn import tree\n",
    "# initialize the model\n",
    "clf = tree.DecisionTreeClassifier(criterion=\"entropy\", random_state=42)\n",
    "clf = clf.fit(X_train, y_train)  # train it\n",
    "# predict the cost of houses in the test set\n",
    "housing_predictions = clf.predict(X_test)\n",
    "# check the error\n",
    "accuracy = accuracy_score(y_test, housing_predictions)\n",
    "accuracy"
   ]
  },
  {
   "cell_type": "code",
   "execution_count": null,
   "id": "0a816a7f",
   "metadata": {
    "execution": {
     "iopub.execute_input": "2023-07-18T08:53:21.494897Z",
     "iopub.status.busy": "2023-07-18T08:53:21.494631Z",
     "iopub.status.idle": "2023-07-18T08:53:21.598868Z",
     "shell.execute_reply": "2023-07-18T08:53:21.597915Z"
    },
    "id": "0a816a7f",
    "slideshow": {
     "slide_type": "slide"
    }
   },
   "outputs": [],
   "source": [
    "from sklearn.metrics import classification_report\n",
    "print(classification_report(y_test, housing_predictions, target_names=bins))"
   ]
  },
  {
   "cell_type": "code",
   "execution_count": null,
   "id": "017f3c68",
   "metadata": {
    "execution": {
     "iopub.execute_input": "2023-07-18T08:53:21.601431Z",
     "iopub.status.busy": "2023-07-18T08:53:21.601228Z",
     "iopub.status.idle": "2023-07-18T08:53:22.688301Z",
     "shell.execute_reply": "2023-07-18T08:53:22.687520Z"
    },
    "id": "017f3c68",
    "scrolled": true,
    "slideshow": {
     "slide_type": "slide"
    }
   },
   "outputs": [],
   "source": [
    "plt.figure(figsize=(20,12))\n",
    "tree.plot_tree(clf, fontsize=10, feature_names=list(X_train.columns), class_names=bins, max_depth=4)\n",
    "plt.show()"
   ]
  },
  {
   "cell_type": "code",
   "execution_count": null,
   "id": "zgtE_hRwXpWj",
   "metadata": {
    "execution": {
     "iopub.execute_input": "2023-07-18T08:53:22.690654Z",
     "iopub.status.busy": "2023-07-18T08:53:22.690455Z",
     "iopub.status.idle": "2023-07-18T08:53:25.019210Z",
     "shell.execute_reply": "2023-07-18T08:53:25.018539Z"
    },
    "id": "zgtE_hRwXpWj",
    "slideshow": {
     "slide_type": "slide"
    }
   },
   "outputs": [],
   "source": [
    "from sklearn.ensemble import RandomForestClassifier\n",
    "\n",
    "forest_cls = RandomForestClassifier(criterion=\"entropy\", random_state=42) # initialize the model\n",
    "forest_cls = forest_cls.fit(X_train, y_train) # train it\n",
    "housing_predictions = forest_cls.predict(X_test) # predict the cost of houses in the test set\n",
    "\n",
    "accuracy = accuracy_score(y_test, housing_predictions) # check the error\n",
    "accuracy"
   ]
  },
  {
   "cell_type": "code",
   "execution_count": null,
   "id": "oXKGFKaUXriL",
   "metadata": {
    "execution": {
     "iopub.execute_input": "2023-07-18T08:53:25.021515Z",
     "iopub.status.busy": "2023-07-18T08:53:25.021319Z",
     "iopub.status.idle": "2023-07-18T08:53:25.026028Z",
     "shell.execute_reply": "2023-07-18T08:53:25.025462Z"
    },
    "id": "oXKGFKaUXriL",
    "slideshow": {
     "slide_type": "slide"
    }
   },
   "outputs": [],
   "source": [
    "forest_cls.get_params()"
   ]
  },
  {
   "cell_type": "code",
   "execution_count": null,
   "id": "iJNLDjRuXtv0",
   "metadata": {
    "execution": {
     "iopub.execute_input": "2023-07-18T08:53:25.028575Z",
     "iopub.status.busy": "2023-07-18T08:53:25.028391Z",
     "iopub.status.idle": "2023-07-18T08:53:49.174145Z",
     "shell.execute_reply": "2023-07-18T08:53:49.173211Z"
    },
    "id": "iJNLDjRuXtv0",
    "slideshow": {
     "slide_type": "slide"
    }
   },
   "outputs": [],
   "source": [
    "random_grid = {'n_estimators': [50, 100, 150], # Number of trees in random forest\n",
    "               'max_features': [1.0, 'sqrt'], # Number of features to consider at every split\n",
    "               'min_samples_leaf': [1, 5],\n",
    "               'max_depth': [2, 5]\n",
    "              }\n",
    "\n",
    "# Fit the random search model\n",
    "rf_random = RandomizedSearchCV(estimator=forest_cls, param_distributions=random_grid, cv=3, verbose=2, random_state=42)\n",
    "rf_random.fit(X_train, y_train)\n",
    "rf_random.best_params_"
   ]
  },
  {
   "cell_type": "code",
   "execution_count": null,
   "id": "Prs9v1QQXvbo",
   "metadata": {
    "execution": {
     "iopub.execute_input": "2023-07-18T08:53:49.176912Z",
     "iopub.status.busy": "2023-07-18T08:53:49.176612Z",
     "iopub.status.idle": "2023-07-18T08:53:49.588283Z",
     "shell.execute_reply": "2023-07-18T08:53:49.587558Z"
    },
    "id": "Prs9v1QQXvbo",
    "slideshow": {
     "slide_type": "slide"
    }
   },
   "outputs": [],
   "source": [
    "forest_cls = RandomForestClassifier(criterion=\"gini\", random_state=42, n_estimators=50, max_features=\"sqrt\", min_samples_leaf=1, max_depth=5) \n",
    "forest_cls = forest_cls.fit(X_train, y_train) # train it\n",
    "housing_predictions = forest_cls.predict(X_test) # predict the cost of houses in the test set\n",
    "\n",
    "accuracy = accuracy_score(y_test, housing_predictions) # check the error\n",
    "accuracy"
   ]
  },
  {
   "cell_type": "code",
   "execution_count": null,
   "id": "1Wr3yNmyXxE8",
   "metadata": {
    "execution": {
     "iopub.execute_input": "2023-07-18T08:53:49.590768Z",
     "iopub.status.busy": "2023-07-18T08:53:49.590575Z",
     "iopub.status.idle": "2023-07-18T08:53:49.595723Z",
     "shell.execute_reply": "2023-07-18T08:53:49.594897Z"
    },
    "id": "1Wr3yNmyXxE8",
    "slideshow": {
     "slide_type": "slide"
    }
   },
   "outputs": [],
   "source": [
    "forest_cls.get_params()"
   ]
  },
  {
   "cell_type": "markdown",
   "id": "97dc277a",
   "metadata": {
    "slideshow": {
     "slide_type": "skip"
    }
   },
   "source": [
    "## AutoML with auto-sklearn"
   ]
  },
  {
   "cell_type": "code",
   "execution_count": null,
   "id": "13d88cfc",
   "metadata": {
    "execution": {
     "iopub.execute_input": "2023-07-18T08:53:49.598137Z",
     "iopub.status.busy": "2023-07-18T08:53:49.597901Z",
     "iopub.status.idle": "2023-07-18T08:53:49.601041Z",
     "shell.execute_reply": "2023-07-18T08:53:49.600337Z"
    },
    "slideshow": {
     "slide_type": "skip"
    }
   },
   "outputs": [],
   "source": [
    "# scale_mapper = {\"low\": 1, \"medium\": 2, \"high\": 3}\n",
    "# y_train = y_train.replace(scale_mapper)\n",
    "# y_test = y_test.replace(scale_mapper)\n",
    "# y_train"
   ]
  },
  {
   "cell_type": "code",
   "execution_count": null,
   "id": "1898d4d7",
   "metadata": {
    "execution": {
     "iopub.execute_input": "2023-07-18T08:53:49.603183Z",
     "iopub.status.busy": "2023-07-18T08:53:49.602999Z",
     "iopub.status.idle": "2023-07-18T08:53:49.606149Z",
     "shell.execute_reply": "2023-07-18T08:53:49.605564Z"
    },
    "slideshow": {
     "slide_type": "skip"
    }
   },
   "outputs": [],
   "source": [
    "# import autosklearn.regression\n",
    "# import autosklearn.classification\n",
    "# import autosklearn.metrics\n",
    "\n",
    "# # Create and train the estimator \n",
    "# # estimator_askl = autosklearn.regression.AutoSklearnRegressor(\n",
    "# estimator_askl = autosklearn.classification.AutoSklearnClassifier(\n",
    "#     time_left_for_this_task=180,\n",
    "#     seed=42, \n",
    "#     resampling_strategy='cv',\n",
    "#     resampling_strategy_arguments={'folds': 3},\n",
    "#     n_jobs=2,\n",
    "#     metric=autosklearn.metrics.accuracy\n",
    "#     # metric=autosklearn.metrics.root_mean_squared_error,\n",
    "# )\n",
    "# # Auto-sklearn ingests the pandas dataframe and detects column types\n",
    "# estimator_askl.fit(X_train, y_train)"
   ]
  },
  {
   "cell_type": "code",
   "execution_count": null,
   "id": "f207fdb7",
   "metadata": {
    "execution": {
     "iopub.execute_input": "2023-07-18T08:53:49.608505Z",
     "iopub.status.busy": "2023-07-18T08:53:49.608319Z",
     "iopub.status.idle": "2023-07-18T08:53:49.611935Z",
     "shell.execute_reply": "2023-07-18T08:53:49.611297Z"
    },
    "slideshow": {
     "slide_type": "skip"
    }
   },
   "outputs": [],
   "source": [
    "# print(\"Available CLASSIFICATION metrics autosklearn.metrics.*:\")\n",
    "# print(\"\\t*\" + \"\\n\\t*\".join(autosklearn.metrics.CLASSIFICATION_METRICS))\n",
    "# print(\"Available REGRESSION autosklearn.metrics.*:\")\n",
    "# print(\"\\t*\" + \"\\n\\t*\".join(autosklearn.metrics.REGRESSION_METRICS))"
   ]
  },
  {
   "cell_type": "code",
   "execution_count": null,
   "id": "6b21842b",
   "metadata": {
    "execution": {
     "iopub.execute_input": "2023-07-18T08:53:49.614207Z",
     "iopub.status.busy": "2023-07-18T08:53:49.613887Z",
     "iopub.status.idle": "2023-07-18T08:53:49.616765Z",
     "shell.execute_reply": "2023-07-18T08:53:49.616170Z"
    },
    "slideshow": {
     "slide_type": "skip"
    }
   },
   "outputs": [],
   "source": [
    "# Score the model\n",
    "# prediction = estimator_askl.predict(X_test)\n",
    "# prediction"
   ]
  },
  {
   "cell_type": "code",
   "execution_count": null,
   "id": "c1d98375",
   "metadata": {
    "execution": {
     "iopub.execute_input": "2023-07-18T08:53:49.618756Z",
     "iopub.status.busy": "2023-07-18T08:53:49.618569Z",
     "iopub.status.idle": "2023-07-18T08:53:49.621779Z",
     "shell.execute_reply": "2023-07-18T08:53:49.621191Z"
    },
    "slideshow": {
     "slide_type": "skip"
    }
   },
   "outputs": [],
   "source": [
    "# performance_askl = autosklearn.metrics.accuracy(y_test, prediction)\n",
    "# performance_askl = autosklearn.metrics.mean_squared_error(y_test, prediction, squared=False)\n",
    "# print(f\"Auto-Sklearn Classifier performance is {performance_askl}\")"
   ]
  },
  {
   "cell_type": "code",
   "execution_count": null,
   "id": "8f9415cc",
   "metadata": {
    "execution": {
     "iopub.execute_input": "2023-07-18T08:53:49.624186Z",
     "iopub.status.busy": "2023-07-18T08:53:49.623604Z",
     "iopub.status.idle": "2023-07-18T08:53:49.626932Z",
     "shell.execute_reply": "2023-07-18T08:53:49.626085Z"
    },
    "slideshow": {
     "slide_type": "skip"
    }
   },
   "outputs": [],
   "source": [
    "# print(estimator_askl.show_models())"
   ]
  }
 ],
 "metadata": {
  "celltoolbar": "Slideshow",
  "colab": {
   "include_colab_link": true,
   "provenance": []
  },
  "kernelspec": {
   "display_name": "Python 3 (ipykernel)",
   "language": "python",
   "name": "python3"
  },
  "language_info": {
   "codemirror_mode": {
    "name": "ipython",
    "version": 3
   },
   "file_extension": ".py",
   "mimetype": "text/x-python",
   "name": "python",
   "nbconvert_exporter": "python",
   "pygments_lexer": "ipython3",
   "version": "3.10.12"
  }
 },
 "nbformat": 4,
 "nbformat_minor": 5
}
